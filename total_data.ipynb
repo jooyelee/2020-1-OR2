{
 "cells": [
  {
   "cell_type": "code",
   "execution_count": 1,
   "metadata": {},
   "outputs": [],
   "source": [
    "\n",
    "import numpy as np\n",
    "import pandas as pd\n",
    "import matplotlib as mpl           # 그래프를 그리는 패키지\n",
    "import matplotlib.pyplot as plt \n",
    "\n",
    "unemployee = pd.read_csv(\"unemployee.csv\",engine=\"python\")"
   ]
  },
  {
   "cell_type": "code",
   "execution_count": 113,
   "metadata": {},
   "outputs": [
    {
     "data": {
      "text/html": [
       "<div>\n",
       "<style scoped>\n",
       "    .dataframe tbody tr th:only-of-type {\n",
       "        vertical-align: middle;\n",
       "    }\n",
       "\n",
       "    .dataframe tbody tr th {\n",
       "        vertical-align: top;\n",
       "    }\n",
       "\n",
       "    .dataframe thead th {\n",
       "        text-align: right;\n",
       "    }\n",
       "</style>\n",
       "<table border=\"1\" class=\"dataframe\">\n",
       "  <thead>\n",
       "    <tr style=\"text-align: right;\">\n",
       "      <th></th>\n",
       "      <th>0</th>\n",
       "    </tr>\n",
       "  </thead>\n",
       "  <tbody>\n",
       "    <tr>\n",
       "      <th>1999. 06</th>\n",
       "      <td>1489</td>\n",
       "    </tr>\n",
       "    <tr>\n",
       "      <th>1999. 07</th>\n",
       "      <td>1476</td>\n",
       "    </tr>\n",
       "    <tr>\n",
       "      <th>1999. 08</th>\n",
       "      <td>1364</td>\n",
       "    </tr>\n",
       "    <tr>\n",
       "      <th>1999. 09</th>\n",
       "      <td>1155</td>\n",
       "    </tr>\n",
       "    <tr>\n",
       "      <th>1999. 10</th>\n",
       "      <td>1108</td>\n",
       "    </tr>\n",
       "    <tr>\n",
       "      <th>1999. 11</th>\n",
       "      <td>1055</td>\n",
       "    </tr>\n",
       "    <tr>\n",
       "      <th>1999. 12</th>\n",
       "      <td>1140</td>\n",
       "    </tr>\n",
       "    <tr>\n",
       "      <th>2000. 01</th>\n",
       "      <td>1232</td>\n",
       "    </tr>\n",
       "    <tr>\n",
       "      <th>2000. 02</th>\n",
       "      <td>1224</td>\n",
       "    </tr>\n",
       "    <tr>\n",
       "      <th>2000. 03</th>\n",
       "      <td>1113</td>\n",
       "    </tr>\n",
       "    <tr>\n",
       "      <th>2000. 04</th>\n",
       "      <td>989</td>\n",
       "    </tr>\n",
       "    <tr>\n",
       "      <th>2000. 05</th>\n",
       "      <td>917</td>\n",
       "    </tr>\n",
       "    <tr>\n",
       "      <th>2000. 06</th>\n",
       "      <td>870</td>\n",
       "    </tr>\n",
       "    <tr>\n",
       "      <th>2000. 07</th>\n",
       "      <td>892</td>\n",
       "    </tr>\n",
       "    <tr>\n",
       "      <th>2000. 08</th>\n",
       "      <td>908</td>\n",
       "    </tr>\n",
       "    <tr>\n",
       "      <th>2000. 09</th>\n",
       "      <td>907</td>\n",
       "    </tr>\n",
       "    <tr>\n",
       "      <th>2000. 10</th>\n",
       "      <td>842</td>\n",
       "    </tr>\n",
       "    <tr>\n",
       "      <th>2000. 11</th>\n",
       "      <td>869</td>\n",
       "    </tr>\n",
       "    <tr>\n",
       "      <th>2000. 12</th>\n",
       "      <td>974</td>\n",
       "    </tr>\n",
       "    <tr>\n",
       "      <th>2001. 01</th>\n",
       "      <td>1092</td>\n",
       "    </tr>\n",
       "    <tr>\n",
       "      <th>2001. 02</th>\n",
       "      <td>1182</td>\n",
       "    </tr>\n",
       "    <tr>\n",
       "      <th>2001. 03</th>\n",
       "      <td>1127</td>\n",
       "    </tr>\n",
       "    <tr>\n",
       "      <th>2001. 04</th>\n",
       "      <td>925</td>\n",
       "    </tr>\n",
       "    <tr>\n",
       "      <th>2001. 05</th>\n",
       "      <td>840</td>\n",
       "    </tr>\n",
       "    <tr>\n",
       "      <th>2001. 06</th>\n",
       "      <td>815</td>\n",
       "    </tr>\n",
       "    <tr>\n",
       "      <th>2001. 07</th>\n",
       "      <td>827</td>\n",
       "    </tr>\n",
       "    <tr>\n",
       "      <th>2001. 08</th>\n",
       "      <td>823</td>\n",
       "    </tr>\n",
       "    <tr>\n",
       "      <th>2001. 09</th>\n",
       "      <td>756</td>\n",
       "    </tr>\n",
       "    <tr>\n",
       "      <th>2001. 10</th>\n",
       "      <td>765</td>\n",
       "    </tr>\n",
       "    <tr>\n",
       "      <th>2001. 11</th>\n",
       "      <td>775</td>\n",
       "    </tr>\n",
       "    <tr>\n",
       "      <th>...</th>\n",
       "      <td>...</td>\n",
       "    </tr>\n",
       "    <tr>\n",
       "      <th>2017. 11</th>\n",
       "      <td>871</td>\n",
       "    </tr>\n",
       "    <tr>\n",
       "      <th>2017. 12</th>\n",
       "      <td>913</td>\n",
       "    </tr>\n",
       "    <tr>\n",
       "      <th>2018. 01</th>\n",
       "      <td>1020</td>\n",
       "    </tr>\n",
       "    <tr>\n",
       "      <th>2018. 02</th>\n",
       "      <td>1265</td>\n",
       "    </tr>\n",
       "    <tr>\n",
       "      <th>2018. 03</th>\n",
       "      <td>1257</td>\n",
       "    </tr>\n",
       "    <tr>\n",
       "      <th>2018. 04</th>\n",
       "      <td>1161</td>\n",
       "    </tr>\n",
       "    <tr>\n",
       "      <th>2018. 05</th>\n",
       "      <td>1121</td>\n",
       "    </tr>\n",
       "    <tr>\n",
       "      <th>2018. 06</th>\n",
       "      <td>1034</td>\n",
       "    </tr>\n",
       "    <tr>\n",
       "      <th>2018. 07</th>\n",
       "      <td>1039</td>\n",
       "    </tr>\n",
       "    <tr>\n",
       "      <th>2018. 08</th>\n",
       "      <td>1133</td>\n",
       "    </tr>\n",
       "    <tr>\n",
       "      <th>2018. 09</th>\n",
       "      <td>1024</td>\n",
       "    </tr>\n",
       "    <tr>\n",
       "      <th>2018. 10</th>\n",
       "      <td>973</td>\n",
       "    </tr>\n",
       "    <tr>\n",
       "      <th>2018. 11</th>\n",
       "      <td>909</td>\n",
       "    </tr>\n",
       "    <tr>\n",
       "      <th>2018. 12</th>\n",
       "      <td>944</td>\n",
       "    </tr>\n",
       "    <tr>\n",
       "      <th>2019. 01</th>\n",
       "      <td>1224</td>\n",
       "    </tr>\n",
       "    <tr>\n",
       "      <th>2019. 02</th>\n",
       "      <td>1303</td>\n",
       "    </tr>\n",
       "    <tr>\n",
       "      <th>2019. 03</th>\n",
       "      <td>1197</td>\n",
       "    </tr>\n",
       "    <tr>\n",
       "      <th>2019. 04</th>\n",
       "      <td>1245</td>\n",
       "    </tr>\n",
       "    <tr>\n",
       "      <th>2019. 05</th>\n",
       "      <td>1145</td>\n",
       "    </tr>\n",
       "    <tr>\n",
       "      <th>2019. 06</th>\n",
       "      <td>1137</td>\n",
       "    </tr>\n",
       "    <tr>\n",
       "      <th>2019. 07</th>\n",
       "      <td>1097</td>\n",
       "    </tr>\n",
       "    <tr>\n",
       "      <th>2019. 08</th>\n",
       "      <td>858</td>\n",
       "    </tr>\n",
       "    <tr>\n",
       "      <th>2019. 09</th>\n",
       "      <td>884</td>\n",
       "    </tr>\n",
       "    <tr>\n",
       "      <th>2019. 10</th>\n",
       "      <td>864</td>\n",
       "    </tr>\n",
       "    <tr>\n",
       "      <th>2019. 11</th>\n",
       "      <td>866</td>\n",
       "    </tr>\n",
       "    <tr>\n",
       "      <th>2019. 12</th>\n",
       "      <td>942</td>\n",
       "    </tr>\n",
       "    <tr>\n",
       "      <th>2020. 01</th>\n",
       "      <td>1153</td>\n",
       "    </tr>\n",
       "    <tr>\n",
       "      <th>2020. 02</th>\n",
       "      <td>1153</td>\n",
       "    </tr>\n",
       "    <tr>\n",
       "      <th>2020. 03</th>\n",
       "      <td>1180</td>\n",
       "    </tr>\n",
       "    <tr>\n",
       "      <th>2020. 04</th>\n",
       "      <td>1172</td>\n",
       "    </tr>\n",
       "  </tbody>\n",
       "</table>\n",
       "<p>251 rows × 1 columns</p>\n",
       "</div>"
      ],
      "text/plain": [
       "             0\n",
       "1999. 06  1489\n",
       "1999. 07  1476\n",
       "1999. 08  1364\n",
       "1999. 09  1155\n",
       "1999. 10  1108\n",
       "1999. 11  1055\n",
       "1999. 12  1140\n",
       "2000. 01  1232\n",
       "2000. 02  1224\n",
       "2000. 03  1113\n",
       "2000. 04   989\n",
       "2000. 05   917\n",
       "2000. 06   870\n",
       "2000. 07   892\n",
       "2000. 08   908\n",
       "2000. 09   907\n",
       "2000. 10   842\n",
       "2000. 11   869\n",
       "2000. 12   974\n",
       "2001. 01  1092\n",
       "2001. 02  1182\n",
       "2001. 03  1127\n",
       "2001. 04   925\n",
       "2001. 05   840\n",
       "2001. 06   815\n",
       "2001. 07   827\n",
       "2001. 08   823\n",
       "2001. 09   756\n",
       "2001. 10   765\n",
       "2001. 11   775\n",
       "...        ...\n",
       "2017. 11   871\n",
       "2017. 12   913\n",
       "2018. 01  1020\n",
       "2018. 02  1265\n",
       "2018. 03  1257\n",
       "2018. 04  1161\n",
       "2018. 05  1121\n",
       "2018. 06  1034\n",
       "2018. 07  1039\n",
       "2018. 08  1133\n",
       "2018. 09  1024\n",
       "2018. 10   973\n",
       "2018. 11   909\n",
       "2018. 12   944\n",
       "2019. 01  1224\n",
       "2019. 02  1303\n",
       "2019. 03  1197\n",
       "2019. 04  1245\n",
       "2019. 05  1145\n",
       "2019. 06  1137\n",
       "2019. 07  1097\n",
       "2019. 08   858\n",
       "2019. 09   884\n",
       "2019. 10   864\n",
       "2019. 11   866\n",
       "2019. 12   942\n",
       "2020. 01  1153\n",
       "2020. 02  1153\n",
       "2020. 03  1180\n",
       "2020. 04  1172\n",
       "\n",
       "[251 rows x 1 columns]"
      ]
     },
     "execution_count": 113,
     "metadata": {},
     "output_type": "execute_result"
    }
   ],
   "source": [
    "unemployee.T"
   ]
  },
  {
   "cell_type": "code",
   "execution_count": 114,
   "metadata": {},
   "outputs": [
    {
     "data": {
      "text/plain": [
       "Index(['1999. 06', '1999. 07', '1999. 08', '1999. 09', '1999. 10', '1999. 11',\n",
       "       '1999. 12', '2000. 01', '2000. 02', '2000. 03',\n",
       "       ...\n",
       "       '2019. 07', '2019. 08', '2019. 09', '2019. 10', '2019. 11', '2019. 12',\n",
       "       '2020. 01', '2020. 02', '2020. 03', '2020. 04'],\n",
       "      dtype='object', length=251)"
      ]
     },
     "execution_count": 114,
     "metadata": {},
     "output_type": "execute_result"
    }
   ],
   "source": [
    "unemployee.T.index"
   ]
  },
  {
   "cell_type": "code",
   "execution_count": 115,
   "metadata": {},
   "outputs": [],
   "source": [
    "un = unemployee.T"
   ]
  },
  {
   "cell_type": "code",
   "execution_count": 116,
   "metadata": {},
   "outputs": [],
   "source": [
    "un[\"date\"] = un.index\n",
    "un.columns = [\"실업자\",\"date\"]"
   ]
  },
  {
   "cell_type": "code",
   "execution_count": 117,
   "metadata": {},
   "outputs": [
    {
     "data": {
      "text/html": [
       "<div>\n",
       "<style scoped>\n",
       "    .dataframe tbody tr th:only-of-type {\n",
       "        vertical-align: middle;\n",
       "    }\n",
       "\n",
       "    .dataframe tbody tr th {\n",
       "        vertical-align: top;\n",
       "    }\n",
       "\n",
       "    .dataframe thead th {\n",
       "        text-align: right;\n",
       "    }\n",
       "</style>\n",
       "<table border=\"1\" class=\"dataframe\">\n",
       "  <thead>\n",
       "    <tr style=\"text-align: right;\">\n",
       "      <th></th>\n",
       "      <th>실업자</th>\n",
       "      <th>date</th>\n",
       "    </tr>\n",
       "  </thead>\n",
       "  <tbody>\n",
       "    <tr>\n",
       "      <th>1999. 06</th>\n",
       "      <td>1489</td>\n",
       "      <td>1999. 06</td>\n",
       "    </tr>\n",
       "    <tr>\n",
       "      <th>1999. 07</th>\n",
       "      <td>1476</td>\n",
       "      <td>1999. 07</td>\n",
       "    </tr>\n",
       "    <tr>\n",
       "      <th>1999. 08</th>\n",
       "      <td>1364</td>\n",
       "      <td>1999. 08</td>\n",
       "    </tr>\n",
       "    <tr>\n",
       "      <th>1999. 09</th>\n",
       "      <td>1155</td>\n",
       "      <td>1999. 09</td>\n",
       "    </tr>\n",
       "    <tr>\n",
       "      <th>1999. 10</th>\n",
       "      <td>1108</td>\n",
       "      <td>1999. 10</td>\n",
       "    </tr>\n",
       "  </tbody>\n",
       "</table>\n",
       "</div>"
      ],
      "text/plain": [
       "           실업자      date\n",
       "1999. 06  1489  1999. 06\n",
       "1999. 07  1476  1999. 07\n",
       "1999. 08  1364  1999. 08\n",
       "1999. 09  1155  1999. 09\n",
       "1999. 10  1108  1999. 10"
      ]
     },
     "execution_count": 117,
     "metadata": {},
     "output_type": "execute_result"
    }
   ],
   "source": [
    "un.head()"
   ]
  },
  {
   "cell_type": "code",
   "execution_count": 118,
   "metadata": {},
   "outputs": [
    {
     "data": {
      "text/plain": [
       "str"
      ]
     },
     "execution_count": 118,
     "metadata": {},
     "output_type": "execute_result"
    }
   ],
   "source": [
    "type(un.iloc[2,1])"
   ]
  },
  {
   "cell_type": "code",
   "execution_count": 119,
   "metadata": {},
   "outputs": [],
   "source": [
    "give_up = pd.read_csv('취포자.csv',engine=\"python\").T"
   ]
  },
  {
   "cell_type": "code",
   "execution_count": 120,
   "metadata": {},
   "outputs": [],
   "source": [
    "give_up[\"date\"] = give_up.index\n",
    "give_up.columns = [\"취포자\",\"date\"]"
   ]
  },
  {
   "cell_type": "code",
   "execution_count": 121,
   "metadata": {},
   "outputs": [
    {
     "data": {
      "text/html": [
       "<div>\n",
       "<style scoped>\n",
       "    .dataframe tbody tr th:only-of-type {\n",
       "        vertical-align: middle;\n",
       "    }\n",
       "\n",
       "    .dataframe tbody tr th {\n",
       "        vertical-align: top;\n",
       "    }\n",
       "\n",
       "    .dataframe thead th {\n",
       "        text-align: right;\n",
       "    }\n",
       "</style>\n",
       "<table border=\"1\" class=\"dataframe\">\n",
       "  <thead>\n",
       "    <tr style=\"text-align: right;\">\n",
       "      <th></th>\n",
       "      <th>취포자</th>\n",
       "      <th>date</th>\n",
       "    </tr>\n",
       "  </thead>\n",
       "  <tbody>\n",
       "    <tr>\n",
       "      <th>2014. 01</th>\n",
       "      <td>237</td>\n",
       "      <td>2014. 01</td>\n",
       "    </tr>\n",
       "    <tr>\n",
       "      <th>2014. 02</th>\n",
       "      <td>267</td>\n",
       "      <td>2014. 02</td>\n",
       "    </tr>\n",
       "    <tr>\n",
       "      <th>2014. 03</th>\n",
       "      <td>333</td>\n",
       "      <td>2014. 03</td>\n",
       "    </tr>\n",
       "    <tr>\n",
       "      <th>2014. 04</th>\n",
       "      <td>370</td>\n",
       "      <td>2014. 04</td>\n",
       "    </tr>\n",
       "    <tr>\n",
       "      <th>2014. 05</th>\n",
       "      <td>426</td>\n",
       "      <td>2014. 05</td>\n",
       "    </tr>\n",
       "  </tbody>\n",
       "</table>\n",
       "</div>"
      ],
      "text/plain": [
       "          취포자      date\n",
       "2014. 01  237  2014. 01\n",
       "2014. 02  267  2014. 02\n",
       "2014. 03  333  2014. 03\n",
       "2014. 04  370  2014. 04\n",
       "2014. 05  426  2014. 05"
      ]
     },
     "execution_count": 121,
     "metadata": {},
     "output_type": "execute_result"
    }
   ],
   "source": [
    "give_up.head()"
   ]
  },
  {
   "cell_type": "code",
   "execution_count": 122,
   "metadata": {},
   "outputs": [],
   "source": [
    "un[\"date1\"] = pd.to_datetime(un[\"date\"])\n",
    "give_up[\"date1\"] = pd.to_datetime(give_up[\"date\"])"
   ]
  },
  {
   "cell_type": "code",
   "execution_count": 123,
   "metadata": {},
   "outputs": [
    {
     "name": "stdout",
     "output_type": "stream",
     "text": [
      "<class 'pandas.core.frame.DataFrame'>\n",
      "Index: 251 entries, 1999. 06 to 2020. 04\n",
      "Data columns (total 3 columns):\n",
      "실업자      251 non-null int64\n",
      "date     251 non-null object\n",
      "date1    251 non-null datetime64[ns]\n",
      "dtypes: datetime64[ns](1), int64(1), object(1)\n",
      "memory usage: 17.8+ KB\n",
      "<class 'pandas.core.frame.DataFrame'>\n",
      "Index: 76 entries, 2014. 01 to 2020. 04\n",
      "Data columns (total 3 columns):\n",
      "취포자      76 non-null int64\n",
      "date     76 non-null object\n",
      "date1    76 non-null datetime64[ns]\n",
      "dtypes: datetime64[ns](1), int64(1), object(1)\n",
      "memory usage: 4.9+ KB\n"
     ]
    }
   ],
   "source": [
    "un.info()\n",
    "give_up.info()"
   ]
  },
  {
   "cell_type": "code",
   "execution_count": 124,
   "metadata": {},
   "outputs": [],
   "source": [
    "un = un[un[\"date1\"] >= \"2014-01-01\" ]"
   ]
  },
  {
   "cell_type": "code",
   "execution_count": 125,
   "metadata": {},
   "outputs": [
    {
     "data": {
      "text/html": [
       "<div>\n",
       "<style scoped>\n",
       "    .dataframe tbody tr th:only-of-type {\n",
       "        vertical-align: middle;\n",
       "    }\n",
       "\n",
       "    .dataframe tbody tr th {\n",
       "        vertical-align: top;\n",
       "    }\n",
       "\n",
       "    .dataframe thead th {\n",
       "        text-align: right;\n",
       "    }\n",
       "</style>\n",
       "<table border=\"1\" class=\"dataframe\">\n",
       "  <thead>\n",
       "    <tr style=\"text-align: right;\">\n",
       "      <th></th>\n",
       "      <th>실업자</th>\n",
       "      <th>date</th>\n",
       "      <th>date1</th>\n",
       "    </tr>\n",
       "  </thead>\n",
       "  <tbody>\n",
       "    <tr>\n",
       "      <th>2014. 01</th>\n",
       "      <td>891</td>\n",
       "      <td>2014. 01</td>\n",
       "      <td>2014-01-01</td>\n",
       "    </tr>\n",
       "    <tr>\n",
       "      <th>2014. 02</th>\n",
       "      <td>1176</td>\n",
       "      <td>2014. 02</td>\n",
       "      <td>2014-02-01</td>\n",
       "    </tr>\n",
       "    <tr>\n",
       "      <th>2014. 03</th>\n",
       "      <td>1026</td>\n",
       "      <td>2014. 03</td>\n",
       "      <td>2014-03-01</td>\n",
       "    </tr>\n",
       "    <tr>\n",
       "      <th>2014. 04</th>\n",
       "      <td>1033</td>\n",
       "      <td>2014. 04</td>\n",
       "      <td>2014-04-01</td>\n",
       "    </tr>\n",
       "    <tr>\n",
       "      <th>2014. 05</th>\n",
       "      <td>955</td>\n",
       "      <td>2014. 05</td>\n",
       "      <td>2014-05-01</td>\n",
       "    </tr>\n",
       "  </tbody>\n",
       "</table>\n",
       "</div>"
      ],
      "text/plain": [
       "           실업자      date      date1\n",
       "2014. 01   891  2014. 01 2014-01-01\n",
       "2014. 02  1176  2014. 02 2014-02-01\n",
       "2014. 03  1026  2014. 03 2014-03-01\n",
       "2014. 04  1033  2014. 04 2014-04-01\n",
       "2014. 05   955  2014. 05 2014-05-01"
      ]
     },
     "execution_count": 125,
     "metadata": {},
     "output_type": "execute_result"
    }
   ],
   "source": [
    "un.head()"
   ]
  },
  {
   "cell_type": "code",
   "execution_count": 126,
   "metadata": {},
   "outputs": [],
   "source": [
    "em17 = pd.read_csv(\"employing17.csv\").T\n",
    "em18 = pd.read_csv(\"employing18.csv\").T"
   ]
  },
  {
   "cell_type": "code",
   "execution_count": 127,
   "metadata": {},
   "outputs": [
    {
     "name": "stderr",
     "output_type": "stream",
     "text": [
      "C:\\Users\\Lee Joo Ye\\Anaconda3\\lib\\site-packages\\ipykernel_launcher.py:2: SettingWithCopyWarning: \n",
      "A value is trying to be set on a copy of a slice from a DataFrame.\n",
      "Try using .loc[row_indexer,col_indexer] = value instead\n",
      "\n",
      "See the caveats in the documentation: http://pandas.pydata.org/pandas-docs/stable/indexing.html#indexing-view-versus-copy\n",
      "  \n",
      "C:\\Users\\Lee Joo Ye\\Anaconda3\\lib\\site-packages\\ipykernel_launcher.py:4: SettingWithCopyWarning: \n",
      "A value is trying to be set on a copy of a slice from a DataFrame.\n",
      "Try using .loc[row_indexer,col_indexer] = value instead\n",
      "\n",
      "See the caveats in the documentation: http://pandas.pydata.org/pandas-docs/stable/indexing.html#indexing-view-versus-copy\n",
      "  after removing the cwd from sys.path.\n"
     ]
    }
   ],
   "source": [
    "EM17 =em17[::-1]\n",
    "EM17[\"date\"] = EM17.index\n",
    "EM18 = em18[::-1]\n",
    "EM18[\"date\"] = EM18.index"
   ]
  },
  {
   "cell_type": "code",
   "execution_count": 128,
   "metadata": {},
   "outputs": [
    {
     "data": {
      "text/html": [
       "<div>\n",
       "<style scoped>\n",
       "    .dataframe tbody tr th:only-of-type {\n",
       "        vertical-align: middle;\n",
       "    }\n",
       "\n",
       "    .dataframe tbody tr th {\n",
       "        vertical-align: top;\n",
       "    }\n",
       "\n",
       "    .dataframe thead th {\n",
       "        text-align: right;\n",
       "    }\n",
       "</style>\n",
       "<table border=\"1\" class=\"dataframe\">\n",
       "  <thead>\n",
       "    <tr style=\"text-align: right;\">\n",
       "      <th></th>\n",
       "      <th>0</th>\n",
       "      <th>date</th>\n",
       "    </tr>\n",
       "  </thead>\n",
       "  <tbody>\n",
       "    <tr>\n",
       "      <th>2014. 01</th>\n",
       "      <td>669197</td>\n",
       "      <td>2014. 01</td>\n",
       "    </tr>\n",
       "    <tr>\n",
       "      <th>2014. 02</th>\n",
       "      <td>650135</td>\n",
       "      <td>2014. 02</td>\n",
       "    </tr>\n",
       "    <tr>\n",
       "      <th>2014. 03</th>\n",
       "      <td>955479</td>\n",
       "      <td>2014. 03</td>\n",
       "    </tr>\n",
       "    <tr>\n",
       "      <th>2014. 04</th>\n",
       "      <td>723979</td>\n",
       "      <td>2014. 04</td>\n",
       "    </tr>\n",
       "    <tr>\n",
       "      <th>2014. 05</th>\n",
       "      <td>681462</td>\n",
       "      <td>2014. 05</td>\n",
       "    </tr>\n",
       "  </tbody>\n",
       "</table>\n",
       "</div>"
      ],
      "text/plain": [
       "               0      date\n",
       "2014. 01  669197  2014. 01\n",
       "2014. 02  650135  2014. 02\n",
       "2014. 03  955479  2014. 03\n",
       "2014. 04  723979  2014. 04\n",
       "2014. 05  681462  2014. 05"
      ]
     },
     "execution_count": 128,
     "metadata": {},
     "output_type": "execute_result"
    }
   ],
   "source": [
    "EM17.head()"
   ]
  },
  {
   "cell_type": "code",
   "execution_count": 129,
   "metadata": {},
   "outputs": [
    {
     "data": {
      "text/html": [
       "<div>\n",
       "<style scoped>\n",
       "    .dataframe tbody tr th:only-of-type {\n",
       "        vertical-align: middle;\n",
       "    }\n",
       "\n",
       "    .dataframe tbody tr th {\n",
       "        vertical-align: top;\n",
       "    }\n",
       "\n",
       "    .dataframe thead th {\n",
       "        text-align: right;\n",
       "    }\n",
       "</style>\n",
       "<table border=\"1\" class=\"dataframe\">\n",
       "  <thead>\n",
       "    <tr style=\"text-align: right;\">\n",
       "      <th></th>\n",
       "      <th>0</th>\n",
       "      <th>date</th>\n",
       "    </tr>\n",
       "  </thead>\n",
       "  <tbody>\n",
       "    <tr>\n",
       "      <th>2019. 11</th>\n",
       "      <td>730576</td>\n",
       "      <td>2019. 11</td>\n",
       "    </tr>\n",
       "    <tr>\n",
       "      <th>2019. 12</th>\n",
       "      <td>671839</td>\n",
       "      <td>2019. 12</td>\n",
       "    </tr>\n",
       "    <tr>\n",
       "      <th>2020. 01</th>\n",
       "      <td>787694</td>\n",
       "      <td>2020. 01</td>\n",
       "    </tr>\n",
       "    <tr>\n",
       "      <th>2020. 02</th>\n",
       "      <td>704956</td>\n",
       "      <td>2020. 02</td>\n",
       "    </tr>\n",
       "    <tr>\n",
       "      <th>2020. 03</th>\n",
       "      <td>888407</td>\n",
       "      <td>2020. 03</td>\n",
       "    </tr>\n",
       "  </tbody>\n",
       "</table>\n",
       "</div>"
      ],
      "text/plain": [
       "               0      date\n",
       "2019. 11  730576  2019. 11\n",
       "2019. 12  671839  2019. 12\n",
       "2020. 01  787694  2020. 01\n",
       "2020. 02  704956  2020. 02\n",
       "2020. 03  888407  2020. 03"
      ]
     },
     "execution_count": 129,
     "metadata": {},
     "output_type": "execute_result"
    }
   ],
   "source": [
    "EM18.tail()"
   ]
  },
  {
   "cell_type": "code",
   "execution_count": 130,
   "metadata": {},
   "outputs": [
    {
     "name": "stderr",
     "output_type": "stream",
     "text": [
      "C:\\Users\\Lee Joo Ye\\Anaconda3\\lib\\site-packages\\ipykernel_launcher.py:1: SettingWithCopyWarning: \n",
      "A value is trying to be set on a copy of a slice from a DataFrame.\n",
      "Try using .loc[row_indexer,col_indexer] = value instead\n",
      "\n",
      "See the caveats in the documentation: http://pandas.pydata.org/pandas-docs/stable/indexing.html#indexing-view-versus-copy\n",
      "  \"\"\"Entry point for launching an IPython kernel.\n",
      "C:\\Users\\Lee Joo Ye\\Anaconda3\\lib\\site-packages\\ipykernel_launcher.py:2: SettingWithCopyWarning: \n",
      "A value is trying to be set on a copy of a slice from a DataFrame.\n",
      "Try using .loc[row_indexer,col_indexer] = value instead\n",
      "\n",
      "See the caveats in the documentation: http://pandas.pydata.org/pandas-docs/stable/indexing.html#indexing-view-versus-copy\n",
      "  \n"
     ]
    }
   ],
   "source": [
    "EM17[\"date1\"] = pd.to_datetime(EM17[\"date\"])\n",
    "EM18[\"date1\"] = pd.to_datetime(EM18[\"date\"])"
   ]
  },
  {
   "cell_type": "code",
   "execution_count": 131,
   "metadata": {},
   "outputs": [],
   "source": [
    "em = pd.concat([EM17,EM18])"
   ]
  },
  {
   "cell_type": "code",
   "execution_count": 132,
   "metadata": {},
   "outputs": [
    {
     "data": {
      "text/plain": [
       "Index(['2014. 01', '2014. 02', '2014. 03', '2014. 04', '2014. 05', '2014. 06',\n",
       "       '2014. 07', '2014. 08', '2014. 09', '2014. 10', '2014. 11', '2014. 12',\n",
       "       '2015. 01', '2015. 02', '2015. 03', '2015. 04', '2015. 05', '2015. 06',\n",
       "       '2015. 07', '2015. 08', '2015. 09', '2015. 10', '2015. 11', '2015. 12',\n",
       "       '2016. 01', '2016. 02', '2016. 03', '2016. 04', '2016. 05', '2016. 06',\n",
       "       '2016. 07', '2016. 08', '2016. 09', '2016. 10', '2016. 11', '2016. 12',\n",
       "       '2017. 01', '2017. 02', '2017. 03', '2017. 04', '2017. 05', '2017. 06',\n",
       "       '2017. 07', '2017. 08', '2017. 09', '2017. 10', '2017. 11', '2017. 12',\n",
       "       '2018. 01', '2018. 02', '2018. 03', '2018. 04', '2018. 05', '2018. 06',\n",
       "       '2018. 07', '2018. 08', '2018. 09', '2018. 10', '2018. 11', '2018. 12',\n",
       "       '2019. 01', '2019. 02', '2019. 03', '2019. 04', '2019. 05', '2019. 06',\n",
       "       '2019. 07', '2019. 08', '2019. 09', '2019. 10', '2019. 11', '2019. 12',\n",
       "       '2020. 01', '2020. 02', '2020. 03'],\n",
       "      dtype='object')"
      ]
     },
     "execution_count": 132,
     "metadata": {},
     "output_type": "execute_result"
    }
   ],
   "source": [
    "em.index"
   ]
  },
  {
   "cell_type": "code",
   "execution_count": 133,
   "metadata": {},
   "outputs": [
    {
     "data": {
      "text/html": [
       "<div>\n",
       "<style scoped>\n",
       "    .dataframe tbody tr th:only-of-type {\n",
       "        vertical-align: middle;\n",
       "    }\n",
       "\n",
       "    .dataframe tbody tr th {\n",
       "        vertical-align: top;\n",
       "    }\n",
       "\n",
       "    .dataframe thead th {\n",
       "        text-align: right;\n",
       "    }\n",
       "</style>\n",
       "<table border=\"1\" class=\"dataframe\">\n",
       "  <thead>\n",
       "    <tr style=\"text-align: right;\">\n",
       "      <th></th>\n",
       "      <th>0</th>\n",
       "      <th>date</th>\n",
       "      <th>date1</th>\n",
       "    </tr>\n",
       "  </thead>\n",
       "  <tbody>\n",
       "    <tr>\n",
       "      <th>2014. 01</th>\n",
       "      <td>669197</td>\n",
       "      <td>2014. 01</td>\n",
       "      <td>2014-01-01</td>\n",
       "    </tr>\n",
       "    <tr>\n",
       "      <th>2014. 02</th>\n",
       "      <td>650135</td>\n",
       "      <td>2014. 02</td>\n",
       "      <td>2014-02-01</td>\n",
       "    </tr>\n",
       "    <tr>\n",
       "      <th>2014. 03</th>\n",
       "      <td>955479</td>\n",
       "      <td>2014. 03</td>\n",
       "      <td>2014-03-01</td>\n",
       "    </tr>\n",
       "    <tr>\n",
       "      <th>2014. 04</th>\n",
       "      <td>723979</td>\n",
       "      <td>2014. 04</td>\n",
       "      <td>2014-04-01</td>\n",
       "    </tr>\n",
       "    <tr>\n",
       "      <th>2014. 05</th>\n",
       "      <td>681462</td>\n",
       "      <td>2014. 05</td>\n",
       "      <td>2014-05-01</td>\n",
       "    </tr>\n",
       "  </tbody>\n",
       "</table>\n",
       "</div>"
      ],
      "text/plain": [
       "               0      date      date1\n",
       "2014. 01  669197  2014. 01 2014-01-01\n",
       "2014. 02  650135  2014. 02 2014-02-01\n",
       "2014. 03  955479  2014. 03 2014-03-01\n",
       "2014. 04  723979  2014. 04 2014-04-01\n",
       "2014. 05  681462  2014. 05 2014-05-01"
      ]
     },
     "execution_count": 133,
     "metadata": {},
     "output_type": "execute_result"
    }
   ],
   "source": [
    "em.head()"
   ]
  },
  {
   "cell_type": "code",
   "execution_count": 134,
   "metadata": {},
   "outputs": [],
   "source": [
    "em.columns = [\"고용수\",\"date\",\"date1\"]"
   ]
  },
  {
   "cell_type": "code",
   "execution_count": 135,
   "metadata": {},
   "outputs": [
    {
     "data": {
      "text/html": [
       "<div>\n",
       "<style scoped>\n",
       "    .dataframe tbody tr th:only-of-type {\n",
       "        vertical-align: middle;\n",
       "    }\n",
       "\n",
       "    .dataframe tbody tr th {\n",
       "        vertical-align: top;\n",
       "    }\n",
       "\n",
       "    .dataframe thead th {\n",
       "        text-align: right;\n",
       "    }\n",
       "</style>\n",
       "<table border=\"1\" class=\"dataframe\">\n",
       "  <thead>\n",
       "    <tr style=\"text-align: right;\">\n",
       "      <th></th>\n",
       "      <th>고용수</th>\n",
       "      <th>date</th>\n",
       "      <th>date1</th>\n",
       "    </tr>\n",
       "  </thead>\n",
       "  <tbody>\n",
       "    <tr>\n",
       "      <th>2014. 01</th>\n",
       "      <td>669197</td>\n",
       "      <td>2014. 01</td>\n",
       "      <td>2014-01-01</td>\n",
       "    </tr>\n",
       "    <tr>\n",
       "      <th>2014. 02</th>\n",
       "      <td>650135</td>\n",
       "      <td>2014. 02</td>\n",
       "      <td>2014-02-01</td>\n",
       "    </tr>\n",
       "    <tr>\n",
       "      <th>2014. 03</th>\n",
       "      <td>955479</td>\n",
       "      <td>2014. 03</td>\n",
       "      <td>2014-03-01</td>\n",
       "    </tr>\n",
       "    <tr>\n",
       "      <th>2014. 04</th>\n",
       "      <td>723979</td>\n",
       "      <td>2014. 04</td>\n",
       "      <td>2014-04-01</td>\n",
       "    </tr>\n",
       "    <tr>\n",
       "      <th>2014. 05</th>\n",
       "      <td>681462</td>\n",
       "      <td>2014. 05</td>\n",
       "      <td>2014-05-01</td>\n",
       "    </tr>\n",
       "  </tbody>\n",
       "</table>\n",
       "</div>"
      ],
      "text/plain": [
       "             고용수      date      date1\n",
       "2014. 01  669197  2014. 01 2014-01-01\n",
       "2014. 02  650135  2014. 02 2014-02-01\n",
       "2014. 03  955479  2014. 03 2014-03-01\n",
       "2014. 04  723979  2014. 04 2014-04-01\n",
       "2014. 05  681462  2014. 05 2014-05-01"
      ]
     },
     "execution_count": 135,
     "metadata": {},
     "output_type": "execute_result"
    }
   ],
   "source": [
    "em.head()"
   ]
  },
  {
   "cell_type": "code",
   "execution_count": 136,
   "metadata": {},
   "outputs": [],
   "source": [
    "total = pd.concat([em,un,give_up],axis =1)\n"
   ]
  },
  {
   "cell_type": "code",
   "execution_count": 137,
   "metadata": {},
   "outputs": [
    {
     "data": {
      "text/html": [
       "<div>\n",
       "<style scoped>\n",
       "    .dataframe tbody tr th:only-of-type {\n",
       "        vertical-align: middle;\n",
       "    }\n",
       "\n",
       "    .dataframe tbody tr th {\n",
       "        vertical-align: top;\n",
       "    }\n",
       "\n",
       "    .dataframe thead th {\n",
       "        text-align: right;\n",
       "    }\n",
       "</style>\n",
       "<table border=\"1\" class=\"dataframe\">\n",
       "  <thead>\n",
       "    <tr style=\"text-align: right;\">\n",
       "      <th></th>\n",
       "      <th>고용수</th>\n",
       "      <th>date</th>\n",
       "      <th>date1</th>\n",
       "      <th>실업자</th>\n",
       "      <th>date</th>\n",
       "      <th>date1</th>\n",
       "      <th>취포자</th>\n",
       "      <th>date</th>\n",
       "      <th>date1</th>\n",
       "    </tr>\n",
       "  </thead>\n",
       "  <tbody>\n",
       "    <tr>\n",
       "      <th>2019. 12</th>\n",
       "      <td>671839.0</td>\n",
       "      <td>2019. 12</td>\n",
       "      <td>2019-12-01</td>\n",
       "      <td>942</td>\n",
       "      <td>2019. 12</td>\n",
       "      <td>2019-12-01</td>\n",
       "      <td>534</td>\n",
       "      <td>2019. 12</td>\n",
       "      <td>2019-12-01</td>\n",
       "    </tr>\n",
       "    <tr>\n",
       "      <th>2020. 01</th>\n",
       "      <td>787694.0</td>\n",
       "      <td>2020. 01</td>\n",
       "      <td>2020-01-01</td>\n",
       "      <td>1153</td>\n",
       "      <td>2020. 01</td>\n",
       "      <td>2020-01-01</td>\n",
       "      <td>542</td>\n",
       "      <td>2020. 01</td>\n",
       "      <td>2020-01-01</td>\n",
       "    </tr>\n",
       "    <tr>\n",
       "      <th>2020. 02</th>\n",
       "      <td>704956.0</td>\n",
       "      <td>2020. 02</td>\n",
       "      <td>2020-02-01</td>\n",
       "      <td>1153</td>\n",
       "      <td>2020. 02</td>\n",
       "      <td>2020-02-01</td>\n",
       "      <td>535</td>\n",
       "      <td>2020. 02</td>\n",
       "      <td>2020-02-01</td>\n",
       "    </tr>\n",
       "    <tr>\n",
       "      <th>2020. 03</th>\n",
       "      <td>888407.0</td>\n",
       "      <td>2020. 03</td>\n",
       "      <td>2020-03-01</td>\n",
       "      <td>1180</td>\n",
       "      <td>2020. 03</td>\n",
       "      <td>2020-03-01</td>\n",
       "      <td>582</td>\n",
       "      <td>2020. 03</td>\n",
       "      <td>2020-03-01</td>\n",
       "    </tr>\n",
       "    <tr>\n",
       "      <th>2020. 04</th>\n",
       "      <td>NaN</td>\n",
       "      <td>NaN</td>\n",
       "      <td>NaT</td>\n",
       "      <td>1172</td>\n",
       "      <td>2020. 04</td>\n",
       "      <td>2020-04-01</td>\n",
       "      <td>611</td>\n",
       "      <td>2020. 04</td>\n",
       "      <td>2020-04-01</td>\n",
       "    </tr>\n",
       "  </tbody>\n",
       "</table>\n",
       "</div>"
      ],
      "text/plain": [
       "               고용수      date      date1   실업자      date      date1  취포자  \\\n",
       "2019. 12  671839.0  2019. 12 2019-12-01   942  2019. 12 2019-12-01  534   \n",
       "2020. 01  787694.0  2020. 01 2020-01-01  1153  2020. 01 2020-01-01  542   \n",
       "2020. 02  704956.0  2020. 02 2020-02-01  1153  2020. 02 2020-02-01  535   \n",
       "2020. 03  888407.0  2020. 03 2020-03-01  1180  2020. 03 2020-03-01  582   \n",
       "2020. 04       NaN       NaN        NaT  1172  2020. 04 2020-04-01  611   \n",
       "\n",
       "              date      date1  \n",
       "2019. 12  2019. 12 2019-12-01  \n",
       "2020. 01  2020. 01 2020-01-01  \n",
       "2020. 02  2020. 02 2020-02-01  \n",
       "2020. 03  2020. 03 2020-03-01  \n",
       "2020. 04  2020. 04 2020-04-01  "
      ]
     },
     "execution_count": 137,
     "metadata": {},
     "output_type": "execute_result"
    }
   ],
   "source": [
    "total.tail()\n"
   ]
  },
  {
   "cell_type": "code",
   "execution_count": 138,
   "metadata": {},
   "outputs": [],
   "source": [
    "total = total.drop(total.index[75])"
   ]
  },
  {
   "cell_type": "code",
   "execution_count": 139,
   "metadata": {},
   "outputs": [
    {
     "data": {
      "text/html": [
       "<div>\n",
       "<style scoped>\n",
       "    .dataframe tbody tr th:only-of-type {\n",
       "        vertical-align: middle;\n",
       "    }\n",
       "\n",
       "    .dataframe tbody tr th {\n",
       "        vertical-align: top;\n",
       "    }\n",
       "\n",
       "    .dataframe thead th {\n",
       "        text-align: right;\n",
       "    }\n",
       "</style>\n",
       "<table border=\"1\" class=\"dataframe\">\n",
       "  <thead>\n",
       "    <tr style=\"text-align: right;\">\n",
       "      <th></th>\n",
       "      <th>고용수</th>\n",
       "      <th>date</th>\n",
       "      <th>date1</th>\n",
       "      <th>실업자</th>\n",
       "      <th>date</th>\n",
       "      <th>date1</th>\n",
       "      <th>취포자</th>\n",
       "      <th>date</th>\n",
       "      <th>date1</th>\n",
       "    </tr>\n",
       "  </thead>\n",
       "  <tbody>\n",
       "    <tr>\n",
       "      <th>2019. 11</th>\n",
       "      <td>730576.0</td>\n",
       "      <td>2019. 11</td>\n",
       "      <td>2019-11-01</td>\n",
       "      <td>866</td>\n",
       "      <td>2019. 11</td>\n",
       "      <td>2019-11-01</td>\n",
       "      <td>487</td>\n",
       "      <td>2019. 11</td>\n",
       "      <td>2019-11-01</td>\n",
       "    </tr>\n",
       "    <tr>\n",
       "      <th>2019. 12</th>\n",
       "      <td>671839.0</td>\n",
       "      <td>2019. 12</td>\n",
       "      <td>2019-12-01</td>\n",
       "      <td>942</td>\n",
       "      <td>2019. 12</td>\n",
       "      <td>2019-12-01</td>\n",
       "      <td>534</td>\n",
       "      <td>2019. 12</td>\n",
       "      <td>2019-12-01</td>\n",
       "    </tr>\n",
       "    <tr>\n",
       "      <th>2020. 01</th>\n",
       "      <td>787694.0</td>\n",
       "      <td>2020. 01</td>\n",
       "      <td>2020-01-01</td>\n",
       "      <td>1153</td>\n",
       "      <td>2020. 01</td>\n",
       "      <td>2020-01-01</td>\n",
       "      <td>542</td>\n",
       "      <td>2020. 01</td>\n",
       "      <td>2020-01-01</td>\n",
       "    </tr>\n",
       "    <tr>\n",
       "      <th>2020. 02</th>\n",
       "      <td>704956.0</td>\n",
       "      <td>2020. 02</td>\n",
       "      <td>2020-02-01</td>\n",
       "      <td>1153</td>\n",
       "      <td>2020. 02</td>\n",
       "      <td>2020-02-01</td>\n",
       "      <td>535</td>\n",
       "      <td>2020. 02</td>\n",
       "      <td>2020-02-01</td>\n",
       "    </tr>\n",
       "    <tr>\n",
       "      <th>2020. 03</th>\n",
       "      <td>888407.0</td>\n",
       "      <td>2020. 03</td>\n",
       "      <td>2020-03-01</td>\n",
       "      <td>1180</td>\n",
       "      <td>2020. 03</td>\n",
       "      <td>2020-03-01</td>\n",
       "      <td>582</td>\n",
       "      <td>2020. 03</td>\n",
       "      <td>2020-03-01</td>\n",
       "    </tr>\n",
       "  </tbody>\n",
       "</table>\n",
       "</div>"
      ],
      "text/plain": [
       "               고용수      date      date1   실업자      date      date1  취포자  \\\n",
       "2019. 11  730576.0  2019. 11 2019-11-01   866  2019. 11 2019-11-01  487   \n",
       "2019. 12  671839.0  2019. 12 2019-12-01   942  2019. 12 2019-12-01  534   \n",
       "2020. 01  787694.0  2020. 01 2020-01-01  1153  2020. 01 2020-01-01  542   \n",
       "2020. 02  704956.0  2020. 02 2020-02-01  1153  2020. 02 2020-02-01  535   \n",
       "2020. 03  888407.0  2020. 03 2020-03-01  1180  2020. 03 2020-03-01  582   \n",
       "\n",
       "              date      date1  \n",
       "2019. 11  2019. 11 2019-11-01  \n",
       "2019. 12  2019. 12 2019-12-01  \n",
       "2020. 01  2020. 01 2020-01-01  \n",
       "2020. 02  2020. 02 2020-02-01  \n",
       "2020. 03  2020. 03 2020-03-01  "
      ]
     },
     "execution_count": 139,
     "metadata": {},
     "output_type": "execute_result"
    }
   ],
   "source": [
    "total.tail()"
   ]
  },
  {
   "cell_type": "code",
   "execution_count": 140,
   "metadata": {},
   "outputs": [
    {
     "name": "stdout",
     "output_type": "stream",
     "text": [
      "<class 'pandas.core.frame.DataFrame'>\n",
      "Index: 75 entries, 2014. 01 to 2020. 03\n",
      "Data columns (total 4 columns):\n",
      "고용수     75 non-null float64\n",
      "실업자     75 non-null int64\n",
      "취포자     75 non-null int64\n",
      "date    75 non-null object\n",
      "dtypes: float64(1), int64(2), object(1)\n",
      "memory usage: 2.9+ KB\n"
     ]
    },
    {
     "name": "stderr",
     "output_type": "stream",
     "text": [
      "C:\\Users\\Lee Joo Ye\\Anaconda3\\lib\\site-packages\\ipykernel_launcher.py:3: SettingWithCopyWarning: \n",
      "A value is trying to be set on a copy of a slice from a DataFrame.\n",
      "Try using .loc[row_indexer,col_indexer] = value instead\n",
      "\n",
      "See the caveats in the documentation: http://pandas.pydata.org/pandas-docs/stable/indexing.html#indexing-view-versus-copy\n",
      "  This is separate from the ipykernel package so we can avoid doing imports until\n"
     ]
    }
   ],
   "source": [
    "\n",
    "total1 = total[[\"고용수\",\"실업자\",\"취포자\"]]\n",
    "total1[\"date\"] = total1.index\n",
    "total1.info()\n"
   ]
  },
  {
   "cell_type": "code",
   "execution_count": 141,
   "metadata": {},
   "outputs": [
    {
     "data": {
      "text/html": [
       "<div>\n",
       "<style scoped>\n",
       "    .dataframe tbody tr th:only-of-type {\n",
       "        vertical-align: middle;\n",
       "    }\n",
       "\n",
       "    .dataframe tbody tr th {\n",
       "        vertical-align: top;\n",
       "    }\n",
       "\n",
       "    .dataframe thead th {\n",
       "        text-align: right;\n",
       "    }\n",
       "</style>\n",
       "<table border=\"1\" class=\"dataframe\">\n",
       "  <thead>\n",
       "    <tr style=\"text-align: right;\">\n",
       "      <th></th>\n",
       "      <th>고용수</th>\n",
       "      <th>실업자</th>\n",
       "      <th>취포자</th>\n",
       "      <th>date</th>\n",
       "    </tr>\n",
       "  </thead>\n",
       "  <tbody>\n",
       "    <tr>\n",
       "      <th>2014. 01</th>\n",
       "      <td>669197.0</td>\n",
       "      <td>891</td>\n",
       "      <td>237</td>\n",
       "      <td>2014. 01</td>\n",
       "    </tr>\n",
       "    <tr>\n",
       "      <th>2014. 02</th>\n",
       "      <td>650135.0</td>\n",
       "      <td>1176</td>\n",
       "      <td>267</td>\n",
       "      <td>2014. 02</td>\n",
       "    </tr>\n",
       "    <tr>\n",
       "      <th>2014. 03</th>\n",
       "      <td>955479.0</td>\n",
       "      <td>1026</td>\n",
       "      <td>333</td>\n",
       "      <td>2014. 03</td>\n",
       "    </tr>\n",
       "    <tr>\n",
       "      <th>2014. 04</th>\n",
       "      <td>723979.0</td>\n",
       "      <td>1033</td>\n",
       "      <td>370</td>\n",
       "      <td>2014. 04</td>\n",
       "    </tr>\n",
       "    <tr>\n",
       "      <th>2014. 05</th>\n",
       "      <td>681462.0</td>\n",
       "      <td>955</td>\n",
       "      <td>426</td>\n",
       "      <td>2014. 05</td>\n",
       "    </tr>\n",
       "  </tbody>\n",
       "</table>\n",
       "</div>"
      ],
      "text/plain": [
       "               고용수   실업자  취포자      date\n",
       "2014. 01  669197.0   891  237  2014. 01\n",
       "2014. 02  650135.0  1176  267  2014. 02\n",
       "2014. 03  955479.0  1026  333  2014. 03\n",
       "2014. 04  723979.0  1033  370  2014. 04\n",
       "2014. 05  681462.0   955  426  2014. 05"
      ]
     },
     "execution_count": 141,
     "metadata": {},
     "output_type": "execute_result"
    }
   ],
   "source": [
    "total1.head()"
   ]
  },
  {
   "cell_type": "code",
   "execution_count": 143,
   "metadata": {},
   "outputs": [],
   "source": [
    "total1.to_csv(\"total_all.csv\",index = True, header= True)"
   ]
  },
  {
   "cell_type": "code",
   "execution_count": 155,
   "metadata": {},
   "outputs": [
    {
     "name": "stderr",
     "output_type": "stream",
     "text": [
      "C:\\Users\\Lee Joo Ye\\Anaconda3\\lib\\site-packages\\ipykernel_launcher.py:7: SettingWithCopyWarning: \n",
      "A value is trying to be set on a copy of a slice from a DataFrame.\n",
      "Try using .loc[row_indexer,col_indexer] = value instead\n",
      "\n",
      "See the caveats in the documentation: http://pandas.pydata.org/pandas-docs/stable/indexing.html#indexing-view-versus-copy\n",
      "  import sys\n"
     ]
    }
   ],
   "source": [
    "# arrival rate  2014.2 ~ 2020.03\n",
    "\n",
    "arrival = [\" \"]\n",
    "for i in range(1,75):\n",
    "    k = total1.실업자[i] - total1.실업자[i-1] + total1.고용수[i] + total1.취포자[i]  \n",
    "    arrival.append(k)\n",
    "total1[\"arrival\"] = arrival"
   ]
  },
  {
   "cell_type": "code",
   "execution_count": 156,
   "metadata": {},
   "outputs": [
    {
     "data": {
      "text/html": [
       "<div>\n",
       "<style scoped>\n",
       "    .dataframe tbody tr th:only-of-type {\n",
       "        vertical-align: middle;\n",
       "    }\n",
       "\n",
       "    .dataframe tbody tr th {\n",
       "        vertical-align: top;\n",
       "    }\n",
       "\n",
       "    .dataframe thead th {\n",
       "        text-align: right;\n",
       "    }\n",
       "</style>\n",
       "<table border=\"1\" class=\"dataframe\">\n",
       "  <thead>\n",
       "    <tr style=\"text-align: right;\">\n",
       "      <th></th>\n",
       "      <th>고용수</th>\n",
       "      <th>실업자</th>\n",
       "      <th>취포자</th>\n",
       "      <th>date</th>\n",
       "      <th>arrival</th>\n",
       "    </tr>\n",
       "  </thead>\n",
       "  <tbody>\n",
       "    <tr>\n",
       "      <th>2014. 01</th>\n",
       "      <td>669197.0</td>\n",
       "      <td>891</td>\n",
       "      <td>237</td>\n",
       "      <td>2014. 01</td>\n",
       "      <td></td>\n",
       "    </tr>\n",
       "    <tr>\n",
       "      <th>2014. 02</th>\n",
       "      <td>650135.0</td>\n",
       "      <td>1176</td>\n",
       "      <td>267</td>\n",
       "      <td>2014. 02</td>\n",
       "      <td>650687</td>\n",
       "    </tr>\n",
       "    <tr>\n",
       "      <th>2014. 03</th>\n",
       "      <td>955479.0</td>\n",
       "      <td>1026</td>\n",
       "      <td>333</td>\n",
       "      <td>2014. 03</td>\n",
       "      <td>955662</td>\n",
       "    </tr>\n",
       "    <tr>\n",
       "      <th>2014. 04</th>\n",
       "      <td>723979.0</td>\n",
       "      <td>1033</td>\n",
       "      <td>370</td>\n",
       "      <td>2014. 04</td>\n",
       "      <td>724356</td>\n",
       "    </tr>\n",
       "    <tr>\n",
       "      <th>2014. 05</th>\n",
       "      <td>681462.0</td>\n",
       "      <td>955</td>\n",
       "      <td>426</td>\n",
       "      <td>2014. 05</td>\n",
       "      <td>681810</td>\n",
       "    </tr>\n",
       "  </tbody>\n",
       "</table>\n",
       "</div>"
      ],
      "text/plain": [
       "               고용수   실업자  취포자      date arrival\n",
       "2014. 01  669197.0   891  237  2014. 01        \n",
       "2014. 02  650135.0  1176  267  2014. 02  650687\n",
       "2014. 03  955479.0  1026  333  2014. 03  955662\n",
       "2014. 04  723979.0  1033  370  2014. 04  724356\n",
       "2014. 05  681462.0   955  426  2014. 05  681810"
      ]
     },
     "execution_count": 156,
     "metadata": {},
     "output_type": "execute_result"
    }
   ],
   "source": [
    "total1.head()"
   ]
  },
  {
   "cell_type": "code",
   "execution_count": 163,
   "metadata": {},
   "outputs": [
    {
     "data": {
      "text/plain": [
       "<Container object of 75 artists>"
      ]
     },
     "execution_count": 163,
     "metadata": {},
     "output_type": "execute_result"
    },
    {
     "data": {
      "image/png": "[encoded data removed]",
      "text/plain": [
       "<matplotlib.figure.Figure at 0x22a24a53828>"
      ]
     },
     "metadata": {},
     "output_type": "display_data"
    }
   ],
   "source": [
    "plt.bar(total1.index,total1.arrival)"
   ]
  },
  {
   "cell_type": "code",
   "execution_count": 167,
   "metadata": {},
   "outputs": [],
   "source": [
    "tail_t = total1.tail(36)"
   ]
  },
  {
   "cell_type": "code",
   "execution_count": 168,
   "metadata": {},
   "outputs": [
    {
     "data": {
      "text/plain": [
       "<Container object of 36 artists>"
      ]
     },
     "execution_count": 168,
     "metadata": {},
     "output_type": "execute_result"
    },
    {
     "data": {
      "image/png": "[encoded data removed]",
      "text/plain": [
       "<matplotlib.figure.Figure at 0x22a26a04dd8>"
      ]
     },
     "metadata": {},
     "output_type": "display_data"
    }
   ],
   "source": [
    "plt.bar(tail_t.index,tail_t.arrival)"
   ]
  },
  {
   "cell_type": "code",
   "execution_count": 169,
   "metadata": {},
   "outputs": [
    {
     "data": {
      "text/plain": [
       "<Container object of 36 artists>"
      ]
     },
     "execution_count": 169,
     "metadata": {},
     "output_type": "execute_result"
    },
    {
     "data": {
      "image/png": "[encoded data removed]",
      "text/plain": [
       "<matplotlib.figure.Figure at 0x22a26c22c18>"
      ]
     },
     "metadata": {},
     "output_type": "display_data"
    }
   ],
   "source": [
    "tail_h = total1.head(36)\n",
    "plt.bar(tail_h.index,tail_h.arrival)"
   ]
  },
  {
   "cell_type": "code",
   "execution_count": null,
   "metadata": {},
   "outputs": [],
   "source": []
  }
 ],
 "metadata": {
  "kernelspec": {
   "display_name": "Python 3",
   "language": "python",
   "name": "python3"
  },
  "language_info": {
   "codemirror_mode": {
    "name": "ipython",
    "version": 3
   },
   "file_extension": ".py",
   "mimetype": "text/x-python",
   "name": "python",
   "nbconvert_exporter": "python",
   "pygments_lexer": "ipython3",
   "version": "3.6.4"
  }
 },
 "nbformat": 4,
 "nbformat_minor": 2
}
